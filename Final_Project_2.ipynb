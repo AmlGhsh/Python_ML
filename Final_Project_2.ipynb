{
 "cells": [
  {
   "cell_type": "code",
   "execution_count": 1,
   "metadata": {},
   "outputs": [],
   "source": [
    "import numpy as np\n",
    "import pandas as pd\n",
    "import matplotlib.pyplot as plt\n",
    "import seaborn as sns\n",
    "%matplotlib inline"
   ]
  },
  {
   "cell_type": "code",
   "execution_count": 2,
   "metadata": {},
   "outputs": [
    {
     "data": {
      "text/html": [
       "<div>\n",
       "<style scoped>\n",
       "    .dataframe tbody tr th:only-of-type {\n",
       "        vertical-align: middle;\n",
       "    }\n",
       "\n",
       "    .dataframe tbody tr th {\n",
       "        vertical-align: top;\n",
       "    }\n",
       "\n",
       "    .dataframe thead th {\n",
       "        text-align: right;\n",
       "    }\n",
       "</style>\n",
       "<table border=\"1\" class=\"dataframe\">\n",
       "  <thead>\n",
       "    <tr style=\"text-align: right;\">\n",
       "      <th></th>\n",
       "      <th>App</th>\n",
       "      <th>Translated_Review</th>\n",
       "      <th>Sentiment</th>\n",
       "      <th>Sentiment_Polarity</th>\n",
       "      <th>Sentiment_Subjectivity</th>\n",
       "    </tr>\n",
       "  </thead>\n",
       "  <tbody>\n",
       "    <tr>\n",
       "      <th>0</th>\n",
       "      <td>10 Best Foods for You</td>\n",
       "      <td>I like eat delicious food. That's I'm cooking ...</td>\n",
       "      <td>Positive</td>\n",
       "      <td>1.00</td>\n",
       "      <td>0.533333</td>\n",
       "    </tr>\n",
       "    <tr>\n",
       "      <th>1</th>\n",
       "      <td>10 Best Foods for You</td>\n",
       "      <td>This help eating healthy exercise regular basis</td>\n",
       "      <td>Positive</td>\n",
       "      <td>0.25</td>\n",
       "      <td>0.288462</td>\n",
       "    </tr>\n",
       "    <tr>\n",
       "      <th>2</th>\n",
       "      <td>10 Best Foods for You</td>\n",
       "      <td>NaN</td>\n",
       "      <td>NaN</td>\n",
       "      <td>NaN</td>\n",
       "      <td>NaN</td>\n",
       "    </tr>\n",
       "    <tr>\n",
       "      <th>3</th>\n",
       "      <td>10 Best Foods for You</td>\n",
       "      <td>Works great especially going grocery store</td>\n",
       "      <td>Positive</td>\n",
       "      <td>0.40</td>\n",
       "      <td>0.875000</td>\n",
       "    </tr>\n",
       "    <tr>\n",
       "      <th>4</th>\n",
       "      <td>10 Best Foods for You</td>\n",
       "      <td>Best idea us</td>\n",
       "      <td>Positive</td>\n",
       "      <td>1.00</td>\n",
       "      <td>0.300000</td>\n",
       "    </tr>\n",
       "  </tbody>\n",
       "</table>\n",
       "</div>"
      ],
      "text/plain": [
       "                     App                                  Translated_Review  \\\n",
       "0  10 Best Foods for You  I like eat delicious food. That's I'm cooking ...   \n",
       "1  10 Best Foods for You    This help eating healthy exercise regular basis   \n",
       "2  10 Best Foods for You                                                NaN   \n",
       "3  10 Best Foods for You         Works great especially going grocery store   \n",
       "4  10 Best Foods for You                                       Best idea us   \n",
       "\n",
       "  Sentiment  Sentiment_Polarity  Sentiment_Subjectivity  \n",
       "0  Positive                1.00                0.533333  \n",
       "1  Positive                0.25                0.288462  \n",
       "2       NaN                 NaN                     NaN  \n",
       "3  Positive                0.40                0.875000  \n",
       "4  Positive                1.00                0.300000  "
      ]
     },
     "execution_count": 2,
     "metadata": {},
     "output_type": "execute_result"
    }
   ],
   "source": [
    "database2=pd.read_csv('googleplaystore_user_reviews.csv')\n",
    "database2.head()"
   ]
  },
  {
   "cell_type": "code",
   "execution_count": 3,
   "metadata": {},
   "outputs": [
    {
     "data": {
      "text/html": [
       "<div>\n",
       "<style scoped>\n",
       "    .dataframe tbody tr th:only-of-type {\n",
       "        vertical-align: middle;\n",
       "    }\n",
       "\n",
       "    .dataframe tbody tr th {\n",
       "        vertical-align: top;\n",
       "    }\n",
       "\n",
       "    .dataframe thead th {\n",
       "        text-align: right;\n",
       "    }\n",
       "</style>\n",
       "<table border=\"1\" class=\"dataframe\">\n",
       "  <thead>\n",
       "    <tr style=\"text-align: right;\">\n",
       "      <th></th>\n",
       "      <th>App</th>\n",
       "      <th>Translated_Review</th>\n",
       "      <th>Sentiment</th>\n",
       "      <th>Sentiment_Polarity</th>\n",
       "      <th>Sentiment_Subjectivity</th>\n",
       "    </tr>\n",
       "  </thead>\n",
       "  <tbody>\n",
       "    <tr>\n",
       "      <th>0</th>\n",
       "      <td>10 Best Foods for You</td>\n",
       "      <td>I like eat delicious food. That's I'm cooking ...</td>\n",
       "      <td>Positive</td>\n",
       "      <td>1.00</td>\n",
       "      <td>0.533333</td>\n",
       "    </tr>\n",
       "    <tr>\n",
       "      <th>1</th>\n",
       "      <td>10 Best Foods for You</td>\n",
       "      <td>This help eating healthy exercise regular basis</td>\n",
       "      <td>Positive</td>\n",
       "      <td>0.25</td>\n",
       "      <td>0.288462</td>\n",
       "    </tr>\n",
       "    <tr>\n",
       "      <th>2</th>\n",
       "      <td>10 Best Foods for You</td>\n",
       "      <td>NaN</td>\n",
       "      <td>NaN</td>\n",
       "      <td>NaN</td>\n",
       "      <td>NaN</td>\n",
       "    </tr>\n",
       "    <tr>\n",
       "      <th>3</th>\n",
       "      <td>10 Best Foods for You</td>\n",
       "      <td>Works great especially going grocery store</td>\n",
       "      <td>Positive</td>\n",
       "      <td>0.40</td>\n",
       "      <td>0.875000</td>\n",
       "    </tr>\n",
       "    <tr>\n",
       "      <th>4</th>\n",
       "      <td>10 Best Foods for You</td>\n",
       "      <td>Best idea us</td>\n",
       "      <td>Positive</td>\n",
       "      <td>1.00</td>\n",
       "      <td>0.300000</td>\n",
       "    </tr>\n",
       "  </tbody>\n",
       "</table>\n",
       "</div>"
      ],
      "text/plain": [
       "                     App                                  Translated_Review  \\\n",
       "0  10 Best Foods for You  I like eat delicious food. That's I'm cooking ...   \n",
       "1  10 Best Foods for You    This help eating healthy exercise regular basis   \n",
       "2  10 Best Foods for You                                                NaN   \n",
       "3  10 Best Foods for You         Works great especially going grocery store   \n",
       "4  10 Best Foods for You                                       Best idea us   \n",
       "\n",
       "  Sentiment  Sentiment_Polarity  Sentiment_Subjectivity  \n",
       "0  Positive                1.00                0.533333  \n",
       "1  Positive                0.25                0.288462  \n",
       "2       NaN                 NaN                     NaN  \n",
       "3  Positive                0.40                0.875000  \n",
       "4  Positive                1.00                0.300000  "
      ]
     },
     "execution_count": 3,
     "metadata": {},
     "output_type": "execute_result"
    }
   ],
   "source": [
    "temp2=pd.DataFrame(database2)\n",
    "temp2.head()"
   ]
  },
  {
   "cell_type": "code",
   "execution_count": 4,
   "metadata": {},
   "outputs": [
    {
     "data": {
      "text/plain": [
       "(64295, 5)"
      ]
     },
     "execution_count": 4,
     "metadata": {},
     "output_type": "execute_result"
    }
   ],
   "source": [
    "temp2.shape"
   ]
  },
  {
   "cell_type": "code",
   "execution_count": 5,
   "metadata": {},
   "outputs": [
    {
     "data": {
      "text/plain": [
       "Index(['App', 'Translated_Review', 'Sentiment', 'Sentiment_Polarity',\n",
       "       'Sentiment_Subjectivity'],\n",
       "      dtype='object')"
      ]
     },
     "execution_count": 5,
     "metadata": {},
     "output_type": "execute_result"
    }
   ],
   "source": [
    "temp2.columns"
   ]
  },
  {
   "cell_type": "code",
   "execution_count": 6,
   "metadata": {},
   "outputs": [
    {
     "data": {
      "text/plain": [
       "App                           0\n",
       "Translated_Review         26868\n",
       "Sentiment                 26863\n",
       "Sentiment_Polarity        26863\n",
       "Sentiment_Subjectivity    26863\n",
       "dtype: int64"
      ]
     },
     "execution_count": 6,
     "metadata": {},
     "output_type": "execute_result"
    }
   ],
   "source": [
    "temp2.isnull().sum()"
   ]
  },
  {
   "cell_type": "code",
   "execution_count": 7,
   "metadata": {},
   "outputs": [
    {
     "data": {
      "text/plain": [
       "Bowmasters                                            320\n",
       "Angry Birds Classic                                   320\n",
       "CBS Sports App - Scores, News, Stats & Watch Live     320\n",
       "Helix Jump                                            300\n",
       "8 Ball Pool                                           300\n",
       "Bubble Shooter                                        260\n",
       "Calorie Counter - MyFitnessPal                        260\n",
       "Duolingo: Learn Languages Free                        240\n",
       "DEAD TARGET: FPS Zombie Apocalypse Survival Games     240\n",
       "ESPN                                                  240\n",
       "Garena Free Fire                                      240\n",
       "Candy Crush Saga                                      240\n",
       "Flow Free                                             220\n",
       "Google Photos                                         220\n",
       "Block Puzzle                                          220\n",
       "Hill Climb Racing                                     220\n",
       "Farm Heroes Saga                                      220\n",
       "Hangouts                                              220\n",
       "Granny                                                220\n",
       "Alto's Adventure                                      200\n",
       "Calorie Counter - MyNetDiary                          200\n",
       "Agar.io                                               200\n",
       "Calorie Counter by FatSecret                          200\n",
       "Calorie Counter - Macros                              200\n",
       "Bleacher Report: sports news, scores, & highlights    200\n",
       "10 Best Foods for You                                 200\n",
       "Clash of Clans                                        180\n",
       "Any.do: To-do list, Calendar, Reminders & Planner     180\n",
       "8fit Workouts & Meal Planner                          180\n",
       "Galaxy Attack: Alien Shooter                          180\n",
       "                                                     ... \n",
       "Dr. Panda Restaurant 3                                 40\n",
       "Golden Launcher                                        40\n",
       "Cozi Family Organizer                                  40\n",
       "Golfshot Plus: Golf GPS                                40\n",
       "Edmodo                                                 40\n",
       "FlipaClip - Cartoon animation                          40\n",
       "Ghostery Privacy Browser                               40\n",
       "Bloomberg Professional                                 40\n",
       "Emoji keyboard - Cute Emoticons, GIF, Stickers         40\n",
       "Diabetes:M                                             40\n",
       "Calorie Counter - EasyFit free                         40\n",
       "Anatomy Learning - 3D Atlas                            40\n",
       "Fever                                                  40\n",
       "HD Camera Pro for Android                              40\n",
       "AP Mobile - Breaking News                              40\n",
       "Classical music for baby                               40\n",
       "ABC Kids - Tracing & Phonics                           40\n",
       "Domofond Недвижимость. Купить, снять квартиру.         39\n",
       "591房屋交易-香港                                             38\n",
       "Dr. Oetker Rezeptideen                                 38\n",
       "Calculator - free calculator ,multi calculator app     38\n",
       "Acupuncture Assistant                                  34\n",
       "Caf - Mon Compte                                       33\n",
       "FOSSIL Q: DESIGN YOUR DIAL                             33\n",
       "Azpen eReader                                          32\n",
       "Detector de Radares Gratis                             31\n",
       "Easy Healthy Recipes                                   31\n",
       "Dresses Ideas & Fashions +3000                         31\n",
       "Easy Hair Style Design                                 30\n",
       "Drawing Clothes Fashion Ideas                          30\n",
       "Name: App, Length: 1074, dtype: int64"
      ]
     },
     "execution_count": 7,
     "metadata": {},
     "output_type": "execute_result"
    }
   ],
   "source": [
    "temp2.App.value_counts()"
   ]
  },
  {
   "cell_type": "code",
   "execution_count": 8,
   "metadata": {},
   "outputs": [
    {
     "data": {
      "text/plain": [
       "Good                                                                                                                                                                                                                                                                                                                                                                                                                                                                                                                                        247\n",
       "Nice                                                                                                                                                                                                                                                                                                                                                                                                                                                                                                                                        173\n",
       "Great                                                                                                                                                                                                                                                                                                                                                                                                                                                                                                                                       131\n",
       "Love                                                                                                                                                                                                                                                                                                                                                                                                                                                                                                                                        116\n",
       "Awesome                                                                                                                                                                                                                                                                                                                                                                                                                                                                                                                                      71\n",
       "Very good                                                                                                                                                                                                                                                                                                                                                                                                                                                                                                                                    69\n",
       "I love                                                                                                                                                                                                                                                                                                                                                                                                                                                                                                                                       66\n",
       "I like                                                                                                                                                                                                                                                                                                                                                                                                                                                                                                                                       56\n",
       "good                                                                                                                                                                                                                                                                                                                                                                                                                                                                                                                                         46\n",
       "Cool                                                                                                                                                                                                                                                                                                                                                                                                                                                                                                                                         42\n",
       "Excellent                                                                                                                                                                                                                                                                                                                                                                                                                                                                                                                                    37\n",
       "Ok                                                                                                                                                                                                                                                                                                                                                                                                                                                                                                                                           37\n",
       "Very nice                                                                                                                                                                                                                                                                                                                                                                                                                                                                                                                                    35\n",
       "It's good                                                                                                                                                                                                                                                                                                                                                                                                                                                                                                                                    32\n",
       "Thanks                                                                                                                                                                                                                                                                                                                                                                                                                                                                                                                                       31\n",
       "Super                                                                                                                                                                                                                                                                                                                                                                                                                                                                                                                                        25\n",
       "nice                                                                                                                                                                                                                                                                                                                                                                                                                                                                                                                                         20\n",
       "Very useful                                                                                                                                                                                                                                                                                                                                                                                                                                                                                                                                  19\n",
       "Best                                                                                                                                                                                                                                                                                                                                                                                                                                                                                                                                         19\n",
       "Thank                                                                                                                                                                                                                                                                                                                                                                                                                                                                                                                                        19\n",
       "Like                                                                                                                                                                                                                                                                                                                                                                                                                                                                                                                                         17\n",
       "Perfect                                                                                                                                                                                                                                                                                                                                                                                                                                                                                                                                      17\n",
       "Its good                                                                                                                                                                                                                                                                                                                                                                                                                                                                                                                                     17\n",
       "Easy                                                                                                                                                                                                                                                                                                                                                                                                                                                                                                                                         16\n",
       "It good                                                                                                                                                                                                                                                                                                                                                                                                                                                                                                                                      16\n",
       "Fun                                                                                                                                                                                                                                                                                                                                                                                                                                                                                                                                          15\n",
       "Rubbish                                                                                                                                                                                                                                                                                                                                                                                                                                                                                                                                      14\n",
       "The best                                                                                                                                                                                                                                                                                                                                                                                                                                                                                                                                     14\n",
       "It's great                                                                                                                                                                                                                                                                                                                                                                                                                                                                                                                                   14\n",
       "I hate                                                                                                                                                                                                                                                                                                                                                                                                                                                                                                                                       14\n",
       "                                                                                                                                                                                                                                                                                                                                                                                                                                                                                                                                           ... \n",
       "Just add comments Love magic hat, allows move levels free power ups, unfortunately still taking alonnnnng time make progress. Also suggestion receive rainbow power boost last move, allowed play it, could make difference winning round. So far levels able, taking time move level need keep easier interest lost. But saying best game e type. After playing game I found timed rounds almost impossible, boosters get past them. I spoken lot people stopped playing timed rounds. They need taken out. Will soon departing myself.      1\n",
       "Always internal error login, Google it, still can't log in Chinese Amazon account                                                                                                                                                                                                                                                                                                                                                                                                                                                             1\n",
       "Bkwass                                                                                                                                                                                                                                                                                                                                                                                                                                                                                                                                        1\n",
       "Hard Add feature hold home key open                                                                                                                                                                                                                                                                                                                                                                                                                                                                                                           1\n",
       "Really good, shows workout moves!                                                                                                                                                                                                                                                                                                                                                                                                                                                                                                             1\n",
       "awesome,but revisite live notifications take much time sometimes come,,you receive remaining star                                                                                                                                                                                                                                                                                                                                                                                                                                             1\n",
       "It's great great bank.                                                                                                                                                                                                                                                                                                                                                                                                                                                                                                                        1\n",
       "Awesome keyboard.                                                                                                                                                                                                                                                                                                                                                                                                                                                                                                                             1\n",
       "Amazing app.If light best way candle light dinner.                                                                                                                                                                                                                                                                                                                                                                                                                                                                                            1\n",
       "Can play presets, manual tuning frequencies schedule                                                                                                                                                                                                                                                                                                                                                                                                                                                                                          1\n",
       "The loading 30% time recent update, load all. Also, search feature finding correct email doctor work properly. If try look \"Dr. David xxxxx\" recognize name variation name makes sense. But start typing first letters nurse's name, recognizes the\"vi\" middle \"David.\" I able find doctors name accident, even though clearly list providers.                                                                                                                                                                                                1\n",
       "Videos downloaded.. Very third class app..                                                                                                                                                                                                                                                                                                                                                                                                                                                                                                    1\n",
       "It worth apps.. Sometimes work itself...                                                                                                                                                                                                                                                                                                                                                                                                                                                                                                      1\n",
       "Easy, quick effective!!!                                                                                                                                                                                                                                                                                                                                                                                                                                                                                                                      1\n",
       "Love customization! I love making clock/weather etc almost clear.. This great that. And animations wonderful. The problem I've recently clock stops keeping time (freezes random time)                                                                                                                                                                                                                                                                                                                                                        1\n",
       "This amazing making funny images...                                                                                                                                                                                                                                                                                                                                                                                                                                                                                                           1\n",
       "Great app! Wish carried functionality iOS version it. Like option fractions decimals servings, sharing articles (I always get error time I attempt share export browser) interface decent clean though. The fraction option huge deal me.                                                                                                                                                                                                                                                                                                     1\n",
       "Very relaxing...pity background noises though                                                                                                                                                                                                                                                                                                                                                                                                                                                                                                 1\n",
       "I like Angry Birds#1 all. In fact I hated it!!! But #2 awesome!!! I leary try it, but, I'm glad I did. There also games Angry Birds put I like well. I would recommend also good fun games. You ought try them. You might like them.                                                                                                                                                                                                                                                                                                          1\n",
       "I like it. It takes much space. And everyone complaint adds WHAT DID YOU EXPECT? THIS IS FREE THEY HAVE TO PUT IN ADDS SO THEY GET PAYED BY EACH ADD. STOP COMPLAINING ABOUT ADS!!!!!!!!                                                                                                                                                                                                                                                                                                                                                      1\n",
       "Amazing! So cute I created version myself. And I used character I created home page! So SO cute! Also great time killer! BTW what's ur music called plays background?                                                                                                                                                                                                                                                                                                                                                                         1\n",
       "I receiving error HJL4 since last update can't log in..please fix asap                                                                                                                                                                                                                                                                                                                                                                                                                                                                        1\n",
       "The game great people love Dragon Ball, even anime general, desperately needs way get characters past events, Broly final-form frieza.                                                                                                                                                                                                                                                                                                                                                                                                        1\n",
       "It's bit slow progress fast. I see getting bored trying complete difficult levels need loads stars cut trees down. Not enough boosts. It's fun gamt tho                                                                                                                                                                                                                                                                                                                                                                                       1\n",
       "I update still showing problem \"please check connection settings \" Plz needful. I know know role.of branch guys also I know IT team Will fix plz fix issue ASAP                                                                                                                                                                                                                                                                                                                                                                               1\n",
       "There much game. You take care cattle, fish, cook, run restaurant, etc. That's I say cuz I'm barely level 2 guys...this jam packed game. Definitely blast past.                                                                                                                                                                                                                                                                                                                                                                               1\n",
       "Game literally locks coop, patch id reset game coop started play. Now cant get daily gold rewards cuz cant complete missions. Game breaking bug.                                                                                                                                                                                                                                                                                                                                                                                              1\n",
       "Never addicted game like long time. You full control vault get things done dwellers (literally figuratively). Attacks happen random need prepared. You grind long time achieve great results. Most quests pretty much enemies. Check online help best tricks tips excel game. Best thing completely playable offline graphics pretty good. Definitely recommended.                                                                                                                                                                            1\n",
       "Problems with photos in articles Insertions into articles from social media players - a good idea, but these inserts are not displayed in the application. Therefore, the material about the draft or, for example, the review of social media players in the application to view uncomfortable                                                                                                                                                                                                                                               1\n",
       "Great pictures fresh ideas! Easy follow read sort recipies. Love love love app!                                                                                                                                                                                                                                                                                                                                                                                                                                                               1\n",
       "Name: Translated_Review, Length: 27994, dtype: int64"
      ]
     },
     "execution_count": 8,
     "metadata": {},
     "output_type": "execute_result"
    }
   ],
   "source": [
    "temp2.Translated_Review.value_counts()"
   ]
  },
  {
   "cell_type": "code",
   "execution_count": 9,
   "metadata": {},
   "outputs": [
    {
     "data": {
      "text/plain": [
       "Positive    23998\n",
       "Negative     8271\n",
       "Neutral      5163\n",
       "Name: Sentiment, dtype: int64"
      ]
     },
     "execution_count": 9,
     "metadata": {},
     "output_type": "execute_result"
    }
   ],
   "source": [
    "temp2.Sentiment.value_counts()"
   ]
  },
  {
   "cell_type": "code",
   "execution_count": 10,
   "metadata": {},
   "outputs": [
    {
     "data": {
      "text/plain": [
       " 0.000000    5163\n",
       " 0.500000    1526\n",
       " 0.700000     991\n",
       " 1.000000     959\n",
       " 0.200000     669\n",
       " 0.800000     639\n",
       " 0.600000     623\n",
       " 0.400000     564\n",
       " 0.300000     501\n",
       " 0.250000     486\n",
       " 0.350000     391\n",
       "-0.500000     343\n",
       "-0.400000     322\n",
       " 0.100000     315\n",
       "-0.200000     265\n",
       " 0.433333     237\n",
       "-1.000000     234\n",
       "-0.250000     228\n",
       " 0.333333     189\n",
       " 0.550000     184\n",
       " 0.166667     182\n",
       " 0.050000     179\n",
       "-0.100000     173\n",
       " 0.625000     160\n",
       " 0.450000     155\n",
       " 0.750000     154\n",
       " 0.150000     150\n",
       " 0.125000     149\n",
       " 0.375000     145\n",
       " 0.266667     143\n",
       "             ... \n",
       " 0.397222       1\n",
       " 0.235417       1\n",
       " 0.248765       1\n",
       " 0.184762       1\n",
       "-0.418750       1\n",
       " 0.011111       1\n",
       " 0.213760       1\n",
       " 0.066619       1\n",
       " 0.181151       1\n",
       "-0.234375       1\n",
       " 0.426302       1\n",
       " 0.221212       1\n",
       " 0.289583       1\n",
       " 0.179236       1\n",
       "-0.483333       1\n",
       "-0.032292       1\n",
       "-0.175758       1\n",
       " 0.474337       1\n",
       " 0.123701       1\n",
       " 0.120000       1\n",
       " 0.378846       1\n",
       " 0.111111       1\n",
       " 0.134091       1\n",
       " 0.073295       1\n",
       " 0.130357       1\n",
       "-0.006667       1\n",
       " 0.090545       1\n",
       " 0.166349       1\n",
       "-0.244141       1\n",
       "-0.043132       1\n",
       "Name: Sentiment_Polarity, Length: 6195, dtype: int64"
      ]
     },
     "execution_count": 10,
     "metadata": {},
     "output_type": "execute_result"
    }
   ],
   "source": [
    "temp2.Sentiment_Polarity.value_counts()"
   ]
  },
  {
   "cell_type": "code",
   "execution_count": 11,
   "metadata": {},
   "outputs": [
    {
     "data": {
      "text/plain": [
       "0.000000    4416\n",
       "1.000000    1749\n",
       "0.500000    1655\n",
       "0.600000    1166\n",
       "0.750000    1140\n",
       "0.600000    1060\n",
       "0.400000     842\n",
       "0.300000     697\n",
       "0.200000     645\n",
       "0.800000     514\n",
       "0.900000     477\n",
       "0.650000     460\n",
       "0.700000     449\n",
       "0.550000     446\n",
       "0.666667     384\n",
       "0.450000     340\n",
       "0.833333     284\n",
       "0.625000     283\n",
       "0.333333     252\n",
       "0.533333     240\n",
       "0.250000     217\n",
       "0.100000     214\n",
       "0.350000     210\n",
       "0.375000     197\n",
       "0.300000     189\n",
       "0.633333     183\n",
       "0.433333     169\n",
       "0.525000     163\n",
       "0.466667     163\n",
       "0.575000     163\n",
       "            ... \n",
       "0.720000       1\n",
       "0.497576       1\n",
       "0.404884       1\n",
       "0.576531       1\n",
       "0.240741       1\n",
       "0.386024       1\n",
       "0.492517       1\n",
       "0.370875       1\n",
       "0.704167       1\n",
       "0.612037       1\n",
       "0.393056       1\n",
       "0.647917       1\n",
       "0.589456       1\n",
       "0.497538       1\n",
       "0.532540       1\n",
       "0.511190       1\n",
       "0.459091       1\n",
       "0.282738       1\n",
       "0.578409       1\n",
       "0.517647       1\n",
       "0.344697       1\n",
       "0.563393       1\n",
       "0.596955       1\n",
       "0.539762       1\n",
       "0.216429       1\n",
       "0.677500       1\n",
       "0.464444       1\n",
       "0.383000       1\n",
       "0.400625       1\n",
       "0.523611       1\n",
       "Name: Sentiment_Subjectivity, Length: 4530, dtype: int64"
      ]
     },
     "execution_count": 11,
     "metadata": {},
     "output_type": "execute_result"
    }
   ],
   "source": [
    "temp2.Sentiment_Subjectivity.value_counts()"
   ]
  },
  {
   "cell_type": "code",
   "execution_count": 12,
   "metadata": {},
   "outputs": [],
   "source": [
    "temp2.Sentiment_Polarity.fillna(0.000000,inplace=True)\n",
    "temp2.Sentiment_Subjectivity.fillna(0.000000,inplace=True)\n",
    "temp2.Sentiment.fillna('Neutral',inplace=True)\n",
    "temp2.Translated_Review.fillna('N.A.',inplace=True)"
   ]
  },
  {
   "cell_type": "code",
   "execution_count": 13,
   "metadata": {},
   "outputs": [
    {
     "data": {
      "text/plain": [
       "App                       0\n",
       "Translated_Review         0\n",
       "Sentiment                 0\n",
       "Sentiment_Polarity        0\n",
       "Sentiment_Subjectivity    0\n",
       "dtype: int64"
      ]
     },
     "execution_count": 13,
     "metadata": {},
     "output_type": "execute_result"
    }
   ],
   "source": [
    "temp2.isnull().sum()"
   ]
  },
  {
   "cell_type": "code",
   "execution_count": 14,
   "metadata": {},
   "outputs": [
    {
     "data": {
      "text/plain": [
       "Neutral     32026\n",
       "Positive    23998\n",
       "Negative     8271\n",
       "Name: Sentiment, dtype: int64"
      ]
     },
     "execution_count": 14,
     "metadata": {},
     "output_type": "execute_result"
    }
   ],
   "source": [
    "temp2.Sentiment.value_counts()"
   ]
  },
  {
   "cell_type": "code",
   "execution_count": 15,
   "metadata": {},
   "outputs": [
    {
     "data": {
      "text/plain": [
       " 0.000000    32026\n",
       " 0.500000     1526\n",
       " 0.700000      991\n",
       " 1.000000      959\n",
       " 0.200000      669\n",
       " 0.800000      639\n",
       " 0.600000      623\n",
       " 0.400000      564\n",
       " 0.300000      501\n",
       " 0.250000      486\n",
       " 0.350000      391\n",
       "-0.500000      343\n",
       "-0.400000      322\n",
       " 0.100000      315\n",
       "-0.200000      265\n",
       " 0.433333      237\n",
       "-1.000000      234\n",
       "-0.250000      228\n",
       " 0.333333      189\n",
       " 0.550000      184\n",
       " 0.166667      182\n",
       " 0.050000      179\n",
       "-0.100000      173\n",
       " 0.625000      160\n",
       " 0.450000      155\n",
       " 0.750000      154\n",
       " 0.150000      150\n",
       " 0.125000      149\n",
       " 0.375000      145\n",
       " 0.266667      143\n",
       "             ...  \n",
       " 0.397222        1\n",
       " 0.235417        1\n",
       " 0.248765        1\n",
       " 0.184762        1\n",
       "-0.418750        1\n",
       " 0.011111        1\n",
       " 0.213760        1\n",
       " 0.066619        1\n",
       " 0.181151        1\n",
       "-0.234375        1\n",
       " 0.426302        1\n",
       " 0.221212        1\n",
       " 0.289583        1\n",
       " 0.179236        1\n",
       "-0.483333        1\n",
       "-0.032292        1\n",
       "-0.175758        1\n",
       " 0.474337        1\n",
       " 0.123701        1\n",
       " 0.120000        1\n",
       " 0.378846        1\n",
       " 0.111111        1\n",
       " 0.134091        1\n",
       " 0.073295        1\n",
       " 0.130357        1\n",
       "-0.006667        1\n",
       " 0.090545        1\n",
       " 0.166349        1\n",
       "-0.244141        1\n",
       "-0.043132        1\n",
       "Name: Sentiment_Polarity, Length: 6195, dtype: int64"
      ]
     },
     "execution_count": 15,
     "metadata": {},
     "output_type": "execute_result"
    }
   ],
   "source": [
    "temp2.Sentiment_Polarity.value_counts()"
   ]
  },
  {
   "cell_type": "code",
   "execution_count": 16,
   "metadata": {},
   "outputs": [
    {
     "data": {
      "text/plain": [
       "0.000000    31279\n",
       "1.000000     1749\n",
       "0.500000     1655\n",
       "0.600000     1166\n",
       "0.750000     1140\n",
       "0.600000     1060\n",
       "0.400000      842\n",
       "0.300000      697\n",
       "0.200000      645\n",
       "0.800000      514\n",
       "0.900000      477\n",
       "0.650000      460\n",
       "0.700000      449\n",
       "0.550000      446\n",
       "0.666667      384\n",
       "0.450000      340\n",
       "0.833333      284\n",
       "0.625000      283\n",
       "0.333333      252\n",
       "0.533333      240\n",
       "0.250000      217\n",
       "0.100000      214\n",
       "0.350000      210\n",
       "0.375000      197\n",
       "0.300000      189\n",
       "0.633333      183\n",
       "0.433333      169\n",
       "0.575000      163\n",
       "0.525000      163\n",
       "0.466667      163\n",
       "            ...  \n",
       "0.459259        1\n",
       "0.720000        1\n",
       "0.497576        1\n",
       "0.576531        1\n",
       "0.240741        1\n",
       "0.386024        1\n",
       "0.492517        1\n",
       "0.370875        1\n",
       "0.704167        1\n",
       "0.612037        1\n",
       "0.425748        1\n",
       "0.647917        1\n",
       "0.257500        1\n",
       "0.497538        1\n",
       "0.589456        1\n",
       "0.532540        1\n",
       "0.459091        1\n",
       "0.282738        1\n",
       "0.578409        1\n",
       "0.517647        1\n",
       "0.344697        1\n",
       "0.677500        1\n",
       "0.563393        1\n",
       "0.596955        1\n",
       "0.539762        1\n",
       "0.216429        1\n",
       "0.464444        1\n",
       "0.383000        1\n",
       "0.400625        1\n",
       "0.555357        1\n",
       "Name: Sentiment_Subjectivity, Length: 4530, dtype: int64"
      ]
     },
     "execution_count": 16,
     "metadata": {},
     "output_type": "execute_result"
    }
   ],
   "source": [
    "temp2.Sentiment_Subjectivity.value_counts()"
   ]
  },
  {
   "cell_type": "code",
   "execution_count": 17,
   "metadata": {},
   "outputs": [
    {
     "data": {
      "text/plain": [
       "0.2826975545356068"
      ]
     },
     "execution_count": 17,
     "metadata": {},
     "output_type": "execute_result"
    }
   ],
   "source": [
    "np.std(temp2.Sentiment_Polarity) # max-->1,min-->-1, avg-->0.1060"
   ]
  },
  {
   "cell_type": "code",
   "execution_count": 18,
   "metadata": {},
   "outputs": [
    {
     "data": {
      "text/plain": [
       "0.3136702370037806"
      ]
     },
     "execution_count": 18,
     "metadata": {},
     "output_type": "execute_result"
    }
   ],
   "source": [
    "np.std(temp2.Sentiment_Subjectivity) # max-->1,min-->0,avg-->0.2868"
   ]
  },
  {
   "cell_type": "code",
   "execution_count": 19,
   "metadata": {},
   "outputs": [
    {
     "data": {
      "text/html": [
       "<div>\n",
       "<style scoped>\n",
       "    .dataframe tbody tr th:only-of-type {\n",
       "        vertical-align: middle;\n",
       "    }\n",
       "\n",
       "    .dataframe tbody tr th {\n",
       "        vertical-align: top;\n",
       "    }\n",
       "\n",
       "    .dataframe thead tr th {\n",
       "        text-align: left;\n",
       "    }\n",
       "\n",
       "    .dataframe thead tr:last-of-type th {\n",
       "        text-align: right;\n",
       "    }\n",
       "</style>\n",
       "<table border=\"1\" class=\"dataframe\">\n",
       "  <thead>\n",
       "    <tr>\n",
       "      <th></th>\n",
       "      <th colspan=\"4\" halign=\"left\">Sentiment_Polarity</th>\n",
       "      <th colspan=\"4\" halign=\"left\">Sentiment_Subjectivity</th>\n",
       "    </tr>\n",
       "    <tr>\n",
       "      <th></th>\n",
       "      <th>count</th>\n",
       "      <th>mean</th>\n",
       "      <th>max</th>\n",
       "      <th>min</th>\n",
       "      <th>count</th>\n",
       "      <th>mean</th>\n",
       "      <th>max</th>\n",
       "      <th>min</th>\n",
       "    </tr>\n",
       "    <tr>\n",
       "      <th>App</th>\n",
       "      <th></th>\n",
       "      <th></th>\n",
       "      <th></th>\n",
       "      <th></th>\n",
       "      <th></th>\n",
       "      <th></th>\n",
       "      <th></th>\n",
       "      <th></th>\n",
       "    </tr>\n",
       "  </thead>\n",
       "  <tbody>\n",
       "    <tr>\n",
       "      <th>10 Best Foods for You</th>\n",
       "      <td>200</td>\n",
       "      <td>0.456611</td>\n",
       "      <td>1.000000</td>\n",
       "      <td>-0.8000</td>\n",
       "      <td>200</td>\n",
       "      <td>0.480591</td>\n",
       "      <td>1.0</td>\n",
       "      <td>0.0</td>\n",
       "    </tr>\n",
       "    <tr>\n",
       "      <th>104 找工作 - 找工作 找打工 找兼職 履歷健檢 履歷診療室</th>\n",
       "      <td>40</td>\n",
       "      <td>0.392405</td>\n",
       "      <td>0.910000</td>\n",
       "      <td>-0.1125</td>\n",
       "      <td>40</td>\n",
       "      <td>0.545516</td>\n",
       "      <td>1.0</td>\n",
       "      <td>0.0</td>\n",
       "    </tr>\n",
       "    <tr>\n",
       "      <th>11st</th>\n",
       "      <td>40</td>\n",
       "      <td>0.181294</td>\n",
       "      <td>1.000000</td>\n",
       "      <td>-1.0000</td>\n",
       "      <td>40</td>\n",
       "      <td>0.443957</td>\n",
       "      <td>1.0</td>\n",
       "      <td>0.0</td>\n",
       "    </tr>\n",
       "    <tr>\n",
       "      <th>1800 Contacts - Lens Store</th>\n",
       "      <td>80</td>\n",
       "      <td>0.318145</td>\n",
       "      <td>0.838542</td>\n",
       "      <td>-0.3000</td>\n",
       "      <td>80</td>\n",
       "      <td>0.591098</td>\n",
       "      <td>1.0</td>\n",
       "      <td>0.0</td>\n",
       "    </tr>\n",
       "    <tr>\n",
       "      <th>1LINE – One Line with One Touch</th>\n",
       "      <td>40</td>\n",
       "      <td>0.186476</td>\n",
       "      <td>1.000000</td>\n",
       "      <td>-0.8250</td>\n",
       "      <td>40</td>\n",
       "      <td>0.529450</td>\n",
       "      <td>1.0</td>\n",
       "      <td>0.0</td>\n",
       "    </tr>\n",
       "  </tbody>\n",
       "</table>\n",
       "</div>"
      ],
      "text/plain": [
       "                                 Sentiment_Polarity                      \\\n",
       "                                              count      mean       max   \n",
       "App                                                                       \n",
       "10 Best Foods for You                           200  0.456611  1.000000   \n",
       "104 找工作 - 找工作 找打工 找兼職 履歷健檢 履歷診療室                 40  0.392405  0.910000   \n",
       "11st                                             40  0.181294  1.000000   \n",
       "1800 Contacts - Lens Store                       80  0.318145  0.838542   \n",
       "1LINE – One Line with One Touch                  40  0.186476  1.000000   \n",
       "\n",
       "                                         Sentiment_Subjectivity            \\\n",
       "                                     min                  count      mean   \n",
       "App                                                                         \n",
       "10 Best Foods for You            -0.8000                    200  0.480591   \n",
       "104 找工作 - 找工作 找打工 找兼職 履歷健檢 履歷診療室 -0.1125                     40  0.545516   \n",
       "11st                             -1.0000                     40  0.443957   \n",
       "1800 Contacts - Lens Store       -0.3000                     80  0.591098   \n",
       "1LINE – One Line with One Touch  -0.8250                     40  0.529450   \n",
       "\n",
       "                                            \n",
       "                                  max  min  \n",
       "App                                         \n",
       "10 Best Foods for You             1.0  0.0  \n",
       "104 找工作 - 找工作 找打工 找兼職 履歷健檢 履歷診療室  1.0  0.0  \n",
       "11st                              1.0  0.0  \n",
       "1800 Contacts - Lens Store        1.0  0.0  \n",
       "1LINE – One Line with One Touch   1.0  0.0  "
      ]
     },
     "execution_count": 19,
     "metadata": {},
     "output_type": "execute_result"
    }
   ],
   "source": [
    "temp2.groupby(temp2.App).agg(['count','mean','max','min']).head()"
   ]
  },
  {
   "cell_type": "code",
   "execution_count": 20,
   "metadata": {},
   "outputs": [
    {
     "data": {
      "text/html": [
       "<div>\n",
       "<style scoped>\n",
       "    .dataframe tbody tr th:only-of-type {\n",
       "        vertical-align: middle;\n",
       "    }\n",
       "\n",
       "    .dataframe tbody tr th {\n",
       "        vertical-align: top;\n",
       "    }\n",
       "\n",
       "    .dataframe thead th {\n",
       "        text-align: right;\n",
       "    }\n",
       "</style>\n",
       "<table border=\"1\" class=\"dataframe\">\n",
       "  <thead>\n",
       "    <tr style=\"text-align: right;\">\n",
       "      <th></th>\n",
       "      <th>App</th>\n",
       "      <th>Translated_Review</th>\n",
       "      <th>Sentiment</th>\n",
       "      <th>Sentiment_Polarity</th>\n",
       "      <th>Sentiment_Subjectivity</th>\n",
       "      <th>Sentiment_Negative</th>\n",
       "      <th>Sentiment_Neutral</th>\n",
       "      <th>Sentiment_Positive</th>\n",
       "    </tr>\n",
       "  </thead>\n",
       "  <tbody>\n",
       "    <tr>\n",
       "      <th>0</th>\n",
       "      <td>10 Best Foods for You</td>\n",
       "      <td>I like eat delicious food. That's I'm cooking ...</td>\n",
       "      <td>Positive</td>\n",
       "      <td>1.00</td>\n",
       "      <td>0.533333</td>\n",
       "      <td>0</td>\n",
       "      <td>0</td>\n",
       "      <td>1</td>\n",
       "    </tr>\n",
       "    <tr>\n",
       "      <th>1</th>\n",
       "      <td>10 Best Foods for You</td>\n",
       "      <td>This help eating healthy exercise regular basis</td>\n",
       "      <td>Positive</td>\n",
       "      <td>0.25</td>\n",
       "      <td>0.288462</td>\n",
       "      <td>0</td>\n",
       "      <td>0</td>\n",
       "      <td>1</td>\n",
       "    </tr>\n",
       "    <tr>\n",
       "      <th>2</th>\n",
       "      <td>10 Best Foods for You</td>\n",
       "      <td>N.A.</td>\n",
       "      <td>Neutral</td>\n",
       "      <td>0.00</td>\n",
       "      <td>0.000000</td>\n",
       "      <td>0</td>\n",
       "      <td>1</td>\n",
       "      <td>0</td>\n",
       "    </tr>\n",
       "    <tr>\n",
       "      <th>3</th>\n",
       "      <td>10 Best Foods for You</td>\n",
       "      <td>Works great especially going grocery store</td>\n",
       "      <td>Positive</td>\n",
       "      <td>0.40</td>\n",
       "      <td>0.875000</td>\n",
       "      <td>0</td>\n",
       "      <td>0</td>\n",
       "      <td>1</td>\n",
       "    </tr>\n",
       "    <tr>\n",
       "      <th>4</th>\n",
       "      <td>10 Best Foods for You</td>\n",
       "      <td>Best idea us</td>\n",
       "      <td>Positive</td>\n",
       "      <td>1.00</td>\n",
       "      <td>0.300000</td>\n",
       "      <td>0</td>\n",
       "      <td>0</td>\n",
       "      <td>1</td>\n",
       "    </tr>\n",
       "  </tbody>\n",
       "</table>\n",
       "</div>"
      ],
      "text/plain": [
       "                     App                                  Translated_Review  \\\n",
       "0  10 Best Foods for You  I like eat delicious food. That's I'm cooking ...   \n",
       "1  10 Best Foods for You    This help eating healthy exercise regular basis   \n",
       "2  10 Best Foods for You                                               N.A.   \n",
       "3  10 Best Foods for You         Works great especially going grocery store   \n",
       "4  10 Best Foods for You                                       Best idea us   \n",
       "\n",
       "  Sentiment  Sentiment_Polarity  Sentiment_Subjectivity  Sentiment_Negative  \\\n",
       "0  Positive                1.00                0.533333                   0   \n",
       "1  Positive                0.25                0.288462                   0   \n",
       "2   Neutral                0.00                0.000000                   0   \n",
       "3  Positive                0.40                0.875000                   0   \n",
       "4  Positive                1.00                0.300000                   0   \n",
       "\n",
       "   Sentiment_Neutral  Sentiment_Positive  \n",
       "0                  0                   1  \n",
       "1                  0                   1  \n",
       "2                  1                   0  \n",
       "3                  0                   1  \n",
       "4                  0                   1  "
      ]
     },
     "execution_count": 20,
     "metadata": {},
     "output_type": "execute_result"
    }
   ],
   "source": [
    "sentiment_dummies=pd.get_dummies(temp2.Sentiment,prefix='Sentiment')\n",
    "sentiment_dummies.head()\n",
    "temp2=pd.concat([temp2,sentiment_dummies],axis=1)\n",
    "temp2.head()"
   ]
  },
  {
   "cell_type": "code",
   "execution_count": 21,
   "metadata": {},
   "outputs": [
    {
     "data": {
      "text/html": [
       "<div>\n",
       "<style scoped>\n",
       "    .dataframe tbody tr th:only-of-type {\n",
       "        vertical-align: middle;\n",
       "    }\n",
       "\n",
       "    .dataframe tbody tr th {\n",
       "        vertical-align: top;\n",
       "    }\n",
       "\n",
       "    .dataframe thead th {\n",
       "        text-align: right;\n",
       "    }\n",
       "</style>\n",
       "<table border=\"1\" class=\"dataframe\">\n",
       "  <thead>\n",
       "    <tr style=\"text-align: right;\">\n",
       "      <th></th>\n",
       "      <th>App</th>\n",
       "      <th>Translated_Review</th>\n",
       "      <th>Sentiment_Polarity</th>\n",
       "      <th>Sentiment_Subjectivity</th>\n",
       "      <th>Sentiment_Negative</th>\n",
       "      <th>Sentiment_Neutral</th>\n",
       "      <th>Sentiment_Positive</th>\n",
       "    </tr>\n",
       "  </thead>\n",
       "  <tbody>\n",
       "    <tr>\n",
       "      <th>0</th>\n",
       "      <td>10 Best Foods for You</td>\n",
       "      <td>I like eat delicious food. That's I'm cooking ...</td>\n",
       "      <td>1.00</td>\n",
       "      <td>0.533333</td>\n",
       "      <td>0</td>\n",
       "      <td>0</td>\n",
       "      <td>1</td>\n",
       "    </tr>\n",
       "    <tr>\n",
       "      <th>1</th>\n",
       "      <td>10 Best Foods for You</td>\n",
       "      <td>This help eating healthy exercise regular basis</td>\n",
       "      <td>0.25</td>\n",
       "      <td>0.288462</td>\n",
       "      <td>0</td>\n",
       "      <td>0</td>\n",
       "      <td>1</td>\n",
       "    </tr>\n",
       "    <tr>\n",
       "      <th>2</th>\n",
       "      <td>10 Best Foods for You</td>\n",
       "      <td>N.A.</td>\n",
       "      <td>0.00</td>\n",
       "      <td>0.000000</td>\n",
       "      <td>0</td>\n",
       "      <td>1</td>\n",
       "      <td>0</td>\n",
       "    </tr>\n",
       "    <tr>\n",
       "      <th>3</th>\n",
       "      <td>10 Best Foods for You</td>\n",
       "      <td>Works great especially going grocery store</td>\n",
       "      <td>0.40</td>\n",
       "      <td>0.875000</td>\n",
       "      <td>0</td>\n",
       "      <td>0</td>\n",
       "      <td>1</td>\n",
       "    </tr>\n",
       "    <tr>\n",
       "      <th>4</th>\n",
       "      <td>10 Best Foods for You</td>\n",
       "      <td>Best idea us</td>\n",
       "      <td>1.00</td>\n",
       "      <td>0.300000</td>\n",
       "      <td>0</td>\n",
       "      <td>0</td>\n",
       "      <td>1</td>\n",
       "    </tr>\n",
       "  </tbody>\n",
       "</table>\n",
       "</div>"
      ],
      "text/plain": [
       "                     App                                  Translated_Review  \\\n",
       "0  10 Best Foods for You  I like eat delicious food. That's I'm cooking ...   \n",
       "1  10 Best Foods for You    This help eating healthy exercise regular basis   \n",
       "2  10 Best Foods for You                                               N.A.   \n",
       "3  10 Best Foods for You         Works great especially going grocery store   \n",
       "4  10 Best Foods for You                                       Best idea us   \n",
       "\n",
       "   Sentiment_Polarity  Sentiment_Subjectivity  Sentiment_Negative  \\\n",
       "0                1.00                0.533333                   0   \n",
       "1                0.25                0.288462                   0   \n",
       "2                0.00                0.000000                   0   \n",
       "3                0.40                0.875000                   0   \n",
       "4                1.00                0.300000                   0   \n",
       "\n",
       "   Sentiment_Neutral  Sentiment_Positive  \n",
       "0                  0                   1  \n",
       "1                  0                   1  \n",
       "2                  1                   0  \n",
       "3                  0                   1  \n",
       "4                  0                   1  "
      ]
     },
     "execution_count": 21,
     "metadata": {},
     "output_type": "execute_result"
    }
   ],
   "source": [
    "temp2=temp2.drop('Sentiment',axis=1)\n",
    "temp2.head()"
   ]
  },
  {
   "cell_type": "code",
   "execution_count": 22,
   "metadata": {},
   "outputs": [],
   "source": [
    "X=temp2.iloc[:,[2,4,5,6]].values\n",
    "Y=temp2.iloc[:,3].values"
   ]
  },
  {
   "cell_type": "code",
   "execution_count": 23,
   "metadata": {},
   "outputs": [],
   "source": [
    "from sklearn import datasets,linear_model\n",
    "from sklearn.metrics import mean_squared_error,r2_score"
   ]
  },
  {
   "cell_type": "code",
   "execution_count": 25,
   "metadata": {},
   "outputs": [],
   "source": [
    "from sklearn.model_selection import train_test_split\n",
    "X_train, X_test, Y_train, Y_test = train_test_split(X, Y, test_size = 0.25, random_state = 0)"
   ]
  },
  {
   "cell_type": "code",
   "execution_count": 27,
   "metadata": {},
   "outputs": [],
   "source": [
    "from sklearn.preprocessing import StandardScaler\n",
    "sc = StandardScaler()\n",
    "X_train = sc.fit_transform(X_train)\n",
    "X_test = sc.transform(X_test)"
   ]
  },
  {
   "cell_type": "code",
   "execution_count": 29,
   "metadata": {},
   "outputs": [],
   "source": [
    "reg=linear_model.LinearRegression()\n",
    "reg.fit(X_train,Y_train)\n",
    "Y_pred=reg.predict(X_test)"
   ]
  },
  {
   "cell_type": "code",
   "execution_count": 31,
   "metadata": {},
   "outputs": [
    {
     "name": "stdout",
     "output_type": "stream",
     "text": [
      "Coefficients \n",
      " [ 4.85992302e-02 -9.21018059e+09 -1.37907371e+10 -1.33520034e+10]\n",
      "Mean Squared Error:0.02\n",
      "Variance score:0.76\n"
     ]
    }
   ],
   "source": [
    "#the coefficients, nearest pointof the data to the straight line\n",
    "print('Coefficients \\n',reg.coef_)\n",
    "#the mean squared error\n",
    "print(\"Mean Squared Error:%.2f\" % mean_squared_error(Y_test,Y_pred)\n",
    "     )\n",
    "#explained variance score: 1 is the perfect prediction\n",
    "print(\"Variance score:%.2f\" % r2_score(Y_test,Y_pred))"
   ]
  },
  {
   "cell_type": "code",
   "execution_count": null,
   "metadata": {},
   "outputs": [],
   "source": []
  }
 ],
 "metadata": {
  "kernelspec": {
   "display_name": "Python 3",
   "language": "python",
   "name": "python3"
  },
  "language_info": {
   "codemirror_mode": {
    "name": "ipython",
    "version": 3
   },
   "file_extension": ".py",
   "mimetype": "text/x-python",
   "name": "python",
   "nbconvert_exporter": "python",
   "pygments_lexer": "ipython3",
   "version": "3.7.3"
  }
 },
 "nbformat": 4,
 "nbformat_minor": 2
}
